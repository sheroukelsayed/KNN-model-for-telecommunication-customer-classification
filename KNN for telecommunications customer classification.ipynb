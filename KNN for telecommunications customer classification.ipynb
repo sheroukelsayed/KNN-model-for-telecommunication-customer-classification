{
  "metadata": {
    "language_info": {
      "codemirror_mode": {
        "name": "python",
        "version": 3
      },
      "file_extension": ".py",
      "mimetype": "text/x-python",
      "name": "python",
      "nbconvert_exporter": "python",
      "pygments_lexer": "ipython3",
      "version": "3.8"
    },
    "kernelspec": {
      "name": "python",
      "display_name": "Python (Pyodide)",
      "language": "python"
    }
  },
  "nbformat_minor": 4,
  "nbformat": 4,
  "cells": [
    {
      "cell_type": "code",
      "source": "import numpy as np\nimport matplotlib.pyplot as plt\nimport pandas as pd\nimport numpy as np\nfrom sklearn import preprocessing\n%matplotlib inline\n",
      "metadata": {
        "trusted": true
      },
      "execution_count": 24,
      "outputs": []
    },
    {
      "cell_type": "markdown",
      "source": "Read and describe data",
      "metadata": {}
    },
    {
      "cell_type": "code",
      "source": "df = pd.read_csv('teleCust1000t.csv')\ndf.head()\ndf.info()\ndf.describe()",
      "metadata": {
        "trusted": true
      },
      "execution_count": 25,
      "outputs": [
        {
          "name": "stdout",
          "text": "<class 'pandas.core.frame.DataFrame'>\nRangeIndex: 1000 entries, 0 to 999\nData columns (total 12 columns):\n #   Column   Non-Null Count  Dtype  \n---  ------   --------------  -----  \n 0   region   1000 non-null   int64  \n 1   tenure   1000 non-null   int64  \n 2   age      1000 non-null   int64  \n 3   marital  1000 non-null   int64  \n 4   address  1000 non-null   int64  \n 5   income   1000 non-null   float64\n 6   ed       1000 non-null   int64  \n 7   employ   1000 non-null   int64  \n 8   retire   1000 non-null   float64\n 9   gender   1000 non-null   int64  \n 10  reside   1000 non-null   int64  \n 11  custcat  1000 non-null   int64  \ndtypes: float64(2), int64(10)\nmemory usage: 93.8 KB\n",
          "output_type": "stream"
        },
        {
          "execution_count": 25,
          "output_type": "execute_result",
          "data": {
            "text/plain": "          region       tenure          age      marital      address  \\\ncount  1000.0000  1000.000000  1000.000000  1000.000000  1000.000000   \nmean      2.0220    35.526000    41.684000     0.495000    11.551000   \nstd       0.8162    21.359812    12.558816     0.500225    10.086681   \nmin       1.0000     1.000000    18.000000     0.000000     0.000000   \n25%       1.0000    17.000000    32.000000     0.000000     3.000000   \n50%       2.0000    34.000000    40.000000     0.000000     9.000000   \n75%       3.0000    54.000000    51.000000     1.000000    18.000000   \nmax       3.0000    72.000000    77.000000     1.000000    55.000000   \n\n            income           ed       employ       retire       gender  \\\ncount  1000.000000  1000.000000  1000.000000  1000.000000  1000.000000   \nmean     77.535000     2.671000    10.987000     0.047000     0.517000   \nstd     107.044165     1.222397    10.082087     0.211745     0.499961   \nmin       9.000000     1.000000     0.000000     0.000000     0.000000   \n25%      29.000000     2.000000     3.000000     0.000000     0.000000   \n50%      47.000000     3.000000     8.000000     0.000000     1.000000   \n75%      83.000000     4.000000    17.000000     0.000000     1.000000   \nmax    1668.000000     5.000000    47.000000     1.000000     1.000000   \n\n            reside      custcat  \ncount  1000.000000  1000.000000  \nmean      2.331000     2.487000  \nstd       1.435793     1.120306  \nmin       1.000000     1.000000  \n25%       1.000000     1.000000  \n50%       2.000000     3.000000  \n75%       3.000000     3.000000  \nmax       8.000000     4.000000  ",
            "text/html": "<div>\n<style scoped>\n    .dataframe tbody tr th:only-of-type {\n        vertical-align: middle;\n    }\n\n    .dataframe tbody tr th {\n        vertical-align: top;\n    }\n\n    .dataframe thead th {\n        text-align: right;\n    }\n</style>\n<table border=\"1\" class=\"dataframe\">\n  <thead>\n    <tr style=\"text-align: right;\">\n      <th></th>\n      <th>region</th>\n      <th>tenure</th>\n      <th>age</th>\n      <th>marital</th>\n      <th>address</th>\n      <th>income</th>\n      <th>ed</th>\n      <th>employ</th>\n      <th>retire</th>\n      <th>gender</th>\n      <th>reside</th>\n      <th>custcat</th>\n    </tr>\n  </thead>\n  <tbody>\n    <tr>\n      <th>count</th>\n      <td>1000.0000</td>\n      <td>1000.000000</td>\n      <td>1000.000000</td>\n      <td>1000.000000</td>\n      <td>1000.000000</td>\n      <td>1000.000000</td>\n      <td>1000.000000</td>\n      <td>1000.000000</td>\n      <td>1000.000000</td>\n      <td>1000.000000</td>\n      <td>1000.000000</td>\n      <td>1000.000000</td>\n    </tr>\n    <tr>\n      <th>mean</th>\n      <td>2.0220</td>\n      <td>35.526000</td>\n      <td>41.684000</td>\n      <td>0.495000</td>\n      <td>11.551000</td>\n      <td>77.535000</td>\n      <td>2.671000</td>\n      <td>10.987000</td>\n      <td>0.047000</td>\n      <td>0.517000</td>\n      <td>2.331000</td>\n      <td>2.487000</td>\n    </tr>\n    <tr>\n      <th>std</th>\n      <td>0.8162</td>\n      <td>21.359812</td>\n      <td>12.558816</td>\n      <td>0.500225</td>\n      <td>10.086681</td>\n      <td>107.044165</td>\n      <td>1.222397</td>\n      <td>10.082087</td>\n      <td>0.211745</td>\n      <td>0.499961</td>\n      <td>1.435793</td>\n      <td>1.120306</td>\n    </tr>\n    <tr>\n      <th>min</th>\n      <td>1.0000</td>\n      <td>1.000000</td>\n      <td>18.000000</td>\n      <td>0.000000</td>\n      <td>0.000000</td>\n      <td>9.000000</td>\n      <td>1.000000</td>\n      <td>0.000000</td>\n      <td>0.000000</td>\n      <td>0.000000</td>\n      <td>1.000000</td>\n      <td>1.000000</td>\n    </tr>\n    <tr>\n      <th>25%</th>\n      <td>1.0000</td>\n      <td>17.000000</td>\n      <td>32.000000</td>\n      <td>0.000000</td>\n      <td>3.000000</td>\n      <td>29.000000</td>\n      <td>2.000000</td>\n      <td>3.000000</td>\n      <td>0.000000</td>\n      <td>0.000000</td>\n      <td>1.000000</td>\n      <td>1.000000</td>\n    </tr>\n    <tr>\n      <th>50%</th>\n      <td>2.0000</td>\n      <td>34.000000</td>\n      <td>40.000000</td>\n      <td>0.000000</td>\n      <td>9.000000</td>\n      <td>47.000000</td>\n      <td>3.000000</td>\n      <td>8.000000</td>\n      <td>0.000000</td>\n      <td>1.000000</td>\n      <td>2.000000</td>\n      <td>3.000000</td>\n    </tr>\n    <tr>\n      <th>75%</th>\n      <td>3.0000</td>\n      <td>54.000000</td>\n      <td>51.000000</td>\n      <td>1.000000</td>\n      <td>18.000000</td>\n      <td>83.000000</td>\n      <td>4.000000</td>\n      <td>17.000000</td>\n      <td>0.000000</td>\n      <td>1.000000</td>\n      <td>3.000000</td>\n      <td>3.000000</td>\n    </tr>\n    <tr>\n      <th>max</th>\n      <td>3.0000</td>\n      <td>72.000000</td>\n      <td>77.000000</td>\n      <td>1.000000</td>\n      <td>55.000000</td>\n      <td>1668.000000</td>\n      <td>5.000000</td>\n      <td>47.000000</td>\n      <td>1.000000</td>\n      <td>1.000000</td>\n      <td>8.000000</td>\n      <td>4.000000</td>\n    </tr>\n  </tbody>\n</table>\n</div>"
          },
          "metadata": {}
        }
      ]
    },
    {
      "cell_type": "code",
      "source": "df['custcat'].value_counts()",
      "metadata": {
        "trusted": true
      },
      "execution_count": 26,
      "outputs": [
        {
          "execution_count": 26,
          "output_type": "execute_result",
          "data": {
            "text/plain": "3    281\n1    266\n4    236\n2    217\nName: custcat, dtype: int64"
          },
          "metadata": {}
        }
      ]
    },
    {
      "cell_type": "code",
      "source": "df.columns",
      "metadata": {
        "trusted": true
      },
      "execution_count": 27,
      "outputs": [
        {
          "execution_count": 27,
          "output_type": "execute_result",
          "data": {
            "text/plain": "Index(['region', 'tenure', 'age', 'marital', 'address', 'income', 'ed',\n       'employ', 'retire', 'gender', 'reside', 'custcat'],\n      dtype='object')"
          },
          "metadata": {}
        }
      ]
    },
    {
      "cell_type": "code",
      "source": "df['custcat'].hist()\nplt.show()",
      "metadata": {
        "trusted": true
      },
      "execution_count": 28,
      "outputs": [
        {
          "output_type": "display_data",
          "data": {
            "text/plain": "<Figure size 640x480 with 1 Axes>",
            "image/png": "[encoded data removed]"
          },
          "metadata": {}
        }
      ]
    },
    {
      "cell_type": "code",
      "source": "from sklearn.model_selection import train_test_split",
      "metadata": {
        "trusted": true
      },
      "execution_count": 29,
      "outputs": []
    },
    {
      "cell_type": "code",
      "source": "X=df[['region', 'tenure', 'age', 'marital', 'address', 'income', 'ed',\n       'employ', 'retire', 'gender', 'reside']].values\nY=df[[ 'custcat']].values",
      "metadata": {
        "trusted": true
      },
      "execution_count": 30,
      "outputs": []
    },
    {
      "cell_type": "markdown",
      "source": "Splitting data into train and test datasets",
      "metadata": {}
    },
    {
      "cell_type": "code",
      "source": "X_train, X_test, y_train, y_test = train_test_split( X, Y, test_size=0.2, random_state=4)\nprint ('Train set:', X_train.shape,  y_train.shape)\nprint ('Test set:', X_test.shape,  y_test.shape)",
      "metadata": {
        "trusted": true
      },
      "execution_count": 31,
      "outputs": [
        {
          "name": "stdout",
          "text": "Train set: (800, 11) (800, 1)\nTest set: (200, 11) (200, 1)\n",
          "output_type": "stream"
        }
      ]
    },
    {
      "cell_type": "code",
      "source": "from sklearn.neighbors import KNeighborsClassifier",
      "metadata": {
        "trusted": true
      },
      "execution_count": 32,
      "outputs": []
    },
    {
      "cell_type": "markdown",
      "source": "Use different K_neigbors vaules for training KNN without Normalization",
      "metadata": {}
    },
    {
      "cell_type": "code",
      "source": "k1=4\nk2=10\nk3=15\n\nmodel1=KNeighborsClassifier(n_neighbors= k1).fit(X_train,y_train)\nmodel2=KNeighborsClassifier(n_neighbors= k2).fit(X_train,y_train)\nmodel3=KNeighborsClassifier(n_neighbors= k3).fit(X_train,y_train)\n\nmodel1\nmodel2\nmodel3\n",
      "metadata": {
        "trusted": true
      },
      "execution_count": 33,
      "outputs": [
        {
          "name": "stderr",
          "text": "/lib/python3.11/site-packages/sklearn/neighbors/_classification.py:215: DataConversionWarning: A column-vector y was passed when a 1d array was expected. Please change the shape of y to (n_samples,), for example using ravel().\n  return self._fit(X, y)\n/lib/python3.11/site-packages/sklearn/neighbors/_classification.py:215: DataConversionWarning: A column-vector y was passed when a 1d array was expected. Please change the shape of y to (n_samples,), for example using ravel().\n  return self._fit(X, y)\n/lib/python3.11/site-packages/sklearn/neighbors/_classification.py:215: DataConversionWarning: A column-vector y was passed when a 1d array was expected. Please change the shape of y to (n_samples,), for example using ravel().\n  return self._fit(X, y)\n",
          "output_type": "stream"
        },
        {
          "execution_count": 33,
          "output_type": "execute_result",
          "data": {
            "text/plain": "KNeighborsClassifier(n_neighbors=15)",
            "text/html": "<style>#sk-container-id-5 {color: black;background-color: white;}#sk-container-id-5 pre{padding: 0;}#sk-container-id-5 div.sk-toggleable {background-color: white;}#sk-container-id-5 label.sk-toggleable__label {cursor: pointer;display: block;width: 100%;margin-bottom: 0;padding: 0.3em;box-sizing: border-box;text-align: center;}#sk-container-id-5 label.sk-toggleable__label-arrow:before {content: \"▸\";float: left;margin-right: 0.25em;color: #696969;}#sk-container-id-5 label.sk-toggleable__label-arrow:hover:before {color: black;}#sk-container-id-5 div.sk-estimator:hover label.sk-toggleable__label-arrow:before {color: black;}#sk-container-id-5 div.sk-toggleable__content {max-height: 0;max-width: 0;overflow: hidden;text-align: left;background-color: #f0f8ff;}#sk-container-id-5 div.sk-toggleable__content pre {margin: 0.2em;color: black;border-radius: 0.25em;background-color: #f0f8ff;}#sk-container-id-5 input.sk-toggleable__control:checked~div.sk-toggleable__content {max-height: 200px;max-width: 100%;overflow: auto;}#sk-container-id-5 input.sk-toggleable__control:checked~label.sk-toggleable__label-arrow:before {content: \"▾\";}#sk-container-id-5 div.sk-estimator input.sk-toggleable__control:checked~label.sk-toggleable__label {background-color: #d4ebff;}#sk-container-id-5 div.sk-label input.sk-toggleable__control:checked~label.sk-toggleable__label {background-color: #d4ebff;}#sk-container-id-5 input.sk-hidden--visually {border: 0;clip: rect(1px 1px 1px 1px);clip: rect(1px, 1px, 1px, 1px);height: 1px;margin: -1px;overflow: hidden;padding: 0;position: absolute;width: 1px;}#sk-container-id-5 div.sk-estimator {font-family: monospace;background-color: #f0f8ff;border: 1px dotted black;border-radius: 0.25em;box-sizing: border-box;margin-bottom: 0.5em;}#sk-container-id-5 div.sk-estimator:hover {background-color: #d4ebff;}#sk-container-id-5 div.sk-parallel-item::after {content: \"\";width: 100%;border-bottom: 1px solid gray;flex-grow: 1;}#sk-container-id-5 div.sk-label:hover label.sk-toggleable__label {background-color: #d4ebff;}#sk-container-id-5 div.sk-serial::before {content: \"\";position: absolute;border-left: 1px solid gray;box-sizing: border-box;top: 0;bottom: 0;left: 50%;z-index: 0;}#sk-container-id-5 div.sk-serial {display: flex;flex-direction: column;align-items: center;background-color: white;padding-right: 0.2em;padding-left: 0.2em;position: relative;}#sk-container-id-5 div.sk-item {position: relative;z-index: 1;}#sk-container-id-5 div.sk-parallel {display: flex;align-items: stretch;justify-content: center;background-color: white;position: relative;}#sk-container-id-5 div.sk-item::before, #sk-container-id-5 div.sk-parallel-item::before {content: \"\";position: absolute;border-left: 1px solid gray;box-sizing: border-box;top: 0;bottom: 0;left: 50%;z-index: -1;}#sk-container-id-5 div.sk-parallel-item {display: flex;flex-direction: column;z-index: 1;position: relative;background-color: white;}#sk-container-id-5 div.sk-parallel-item:first-child::after {align-self: flex-end;width: 50%;}#sk-container-id-5 div.sk-parallel-item:last-child::after {align-self: flex-start;width: 50%;}#sk-container-id-5 div.sk-parallel-item:only-child::after {width: 0;}#sk-container-id-5 div.sk-dashed-wrapped {border: 1px dashed gray;margin: 0 0.4em 0.5em 0.4em;box-sizing: border-box;padding-bottom: 0.4em;background-color: white;}#sk-container-id-5 div.sk-label label {font-family: monospace;font-weight: bold;display: inline-block;line-height: 1.2em;}#sk-container-id-5 div.sk-label-container {text-align: center;}#sk-container-id-5 div.sk-container {/* jupyter's `normalize.less` sets `[hidden] { display: none; }` but bootstrap.min.css set `[hidden] { display: none !important; }` so we also need the `!important` here to be able to override the default hidden behavior on the sphinx rendered scikit-learn.org. See: https://github.com/scikit-learn/scikit-learn/issues/21755 */display: inline-block !important;position: relative;}#sk-container-id-5 div.sk-text-repr-fallback {display: none;}</style><div id=\"sk-container-id-5\" class=\"sk-top-container\"><div class=\"sk-text-repr-fallback\"><pre>KNeighborsClassifier(n_neighbors=15)</pre><b>In a Jupyter environment, please rerun this cell to show the HTML representation or trust the notebook. <br />On GitHub, the HTML representation is unable to render, please try loading this page with nbviewer.org.</b></div><div class=\"sk-container\" hidden><div class=\"sk-item\"><div class=\"sk-estimator sk-toggleable\"><input class=\"sk-toggleable__control sk-hidden--visually\" id=\"sk-estimator-id-5\" type=\"checkbox\" checked><label for=\"sk-estimator-id-5\" class=\"sk-toggleable__label sk-toggleable__label-arrow\">KNeighborsClassifier</label><div class=\"sk-toggleable__content\"><pre>KNeighborsClassifier(n_neighbors=15)</pre></div></div></div></div></div>"
          },
          "metadata": {}
        }
      ]
    },
    {
      "cell_type": "code",
      "source": "from sklearn import metrics\nyhat1 = model1.predict(X_test)\nprint(\"model1:Train set Accuracy: \", metrics.accuracy_score(y_train, model1.predict(X_train)))\nprint(\"model1:Test set Accuracy: \", metrics.accuracy_score(y_test, yhat1))\n\nyhat2 = model2.predict(X_test)\nprint(\"model2:Train set Accuracy: \", metrics.accuracy_score(y_train, model1.predict(X_train)))\nprint(\"model2:Test set Accuracy: \", metrics.accuracy_score(y_test, yhat2))\n\nyhat3 = model3.predict(X_test)\nprint(\"model3:Train set Accuracy: \", metrics.accuracy_score(y_train, model1.predict(X_train)))\nprint(\"model3:Test set Accuracy: \", metrics.accuracy_score(y_test, yhat3))\n",
      "metadata": {
        "trusted": true
      },
      "execution_count": 34,
      "outputs": [
        {
          "name": "stdout",
          "text": "model1:Train set Accuracy:  0.5575\nmodel1:Test set Accuracy:  0.26\nmodel2:Train set Accuracy:  0.5575\nmodel2:Test set Accuracy:  0.32\nmodel3:Train set Accuracy:  0.5575\nmodel3:Test set Accuracy:  0.355\n",
          "output_type": "stream"
        }
      ]
    },
    {
      "cell_type": "markdown",
      "source": "Use different K_neigbors vaules for training KNN with Normalization",
      "metadata": {}
    },
    {
      "cell_type": "code",
      "source": "k1=4\nk2=10\nk3=15\nX_train_norm =preprocessing.StandardScaler().fit(X_train).transform(X_train.astype(float))\nX_test_norm = preprocessing.StandardScaler().fit(X_test).transform(X_test.astype(float))\nmodel1_norm=KNeighborsClassifier(n_neighbors= k1).fit(X_train_norm,y_train)\nmodel2_norm=KNeighborsClassifier(n_neighbors= k2).fit(X_train_norm,y_train)\nmodel3_norm=KNeighborsClassifier(n_neighbors= k3).fit(X_train_norm,y_train)\n\nmodel1_norm\nmodel2_norm\nmodel3_norm\nyhat1 = model1_norm.predict(X_test_norm)\nprint(\"model1:Train set Accuracy: \", metrics.accuracy_score(y_train, model1_norm.predict(X_train_norm)))\nprint(\"model1:Test set Accuracy: \", metrics.accuracy_score(y_test, yhat1))\n\nyhat2 = model2_norm.predict(X_test_norm)\nprint(\"model2:Train set Accuracy: \", metrics.accuracy_score(y_train, model1_norm.predict(X_train_norm)))\nprint(\"model2:Test set Accuracy: \", metrics.accuracy_score(y_test, yhat2))\n\nyhat3 = model3_norm.predict(X_test_norm)\nprint(\"model3:Train set Accuracy: \", metrics.accuracy_score(y_train, model1_norm.predict(X_train_norm)))\nprint(\"model3:Test set Accuracy: \", metrics.accuracy_score(y_test, yhat3))\n",
      "metadata": {
        "trusted": true
      },
      "execution_count": 35,
      "outputs": [
        {
          "name": "stderr",
          "text": "/lib/python3.11/site-packages/sklearn/neighbors/_classification.py:215: DataConversionWarning: A column-vector y was passed when a 1d array was expected. Please change the shape of y to (n_samples,), for example using ravel().\n  return self._fit(X, y)\n/lib/python3.11/site-packages/sklearn/neighbors/_classification.py:215: DataConversionWarning: A column-vector y was passed when a 1d array was expected. Please change the shape of y to (n_samples,), for example using ravel().\n  return self._fit(X, y)\n/lib/python3.11/site-packages/sklearn/neighbors/_classification.py:215: DataConversionWarning: A column-vector y was passed when a 1d array was expected. Please change the shape of y to (n_samples,), for example using ravel().\n  return self._fit(X, y)\n",
          "output_type": "stream"
        },
        {
          "name": "stdout",
          "text": "model1:Train set Accuracy:  0.5475\nmodel1:Test set Accuracy:  0.33\nmodel2:Train set Accuracy:  0.5475\nmodel2:Test set Accuracy:  0.345\nmodel3:Train set Accuracy:  0.5475\nmodel3:Test set Accuracy:  0.325\n",
          "output_type": "stream"
        }
      ]
    },
    {
      "cell_type": "code",
      "source": "",
      "metadata": {},
      "execution_count": null,
      "outputs": []
    }
  ]
}